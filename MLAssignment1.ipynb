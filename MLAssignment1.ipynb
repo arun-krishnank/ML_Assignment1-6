{
 "cells": [
  {
   "cell_type": "markdown",
   "metadata": {},
   "source": [
    "# 2.1. Problem Statement: Machine Learning 1"
   ]
  },
  {
   "cell_type": "markdown",
   "metadata": {},
   "source": [
    "### 1. What are the three stages to build the hypotheses or model in machine learning?"
   ]
  },
  {
   "cell_type": "markdown",
   "metadata": {},
   "source": [
    "The three stages to building a model or hypothesis in machine learning are: <br/>\n",
    "i) Model Building - Build a model that would fit the data available with the least amount of errors . <br/>\n",
    "ii) Model Testing - Test the built model for various data, check the various metrics and tune the parameters to improve the model. <br/>\n",
    "iii) Model Application - Apply the improved high performing model to new data to get the desired result. <br/>"
   ]
  },
  {
   "cell_type": "markdown",
   "metadata": {},
   "source": [
    "### 2. What is the standard approach to supervised learning?"
   ]
  },
  {
   "cell_type": "markdown",
   "metadata": {},
   "source": [
    "In Supervised learning the availability of labelled data is expected, which is split into two sets - training and testing. The model is built using the training data and it is tested for accuracy and performance using the test set."
   ]
  },
  {
   "cell_type": "markdown",
   "metadata": {},
   "source": [
    "### 3. What is Training set and Test set?"
   ]
  },
  {
   "cell_type": "markdown",
   "metadata": {},
   "source": [
    "Training set is the set of labelled data given to the algorithm or the model to learn the various patterns in the data and build a model best suited to fit the available data. <br/>\n",
    "Test set is the unseen set of labelled data which is used to test the accuracy of the model built using Training set. <br/>\n",
    "The test set should be distinct from the training set <br/>"
   ]
  },
  {
   "cell_type": "markdown",
   "metadata": {},
   "source": [
    "### 4. What is the general principle of an ensemble method and what is bagging and boosting in ensemble method?"
   ]
  },
  {
   "cell_type": "markdown",
   "metadata": {},
   "source": [
    "Ensemble method is a machine learning technique that combines several base models built with a given learning algorithm in order to produce a robust optimal predictive model. <br/>\n",
    "Bagging method often considers homogeneous weak learners , learns each of them parallely and then combine them using a deterministic averaging method. It improves unstable estimation or classification schemes. <br/>\n",
    "Boosting methods consider homogeneous weak learners but they learn sequentially as opposed to the parallel method used in bagging. Here the learning is more adaptive since it is sequential and each base model depends on the previous model and all of them are combined using a deterministic strategy. They reduce the bias of the combined model. <br/>\n",
    "Boosting and Bagging both can reduce errors by reducing the variance term."
   ]
  },
  {
   "cell_type": "markdown",
   "metadata": {},
   "source": [
    "### 5. How can you avoid overfitting ?"
   ]
  },
  {
   "cell_type": "markdown",
   "metadata": {},
   "source": [
    "Overfitting normally occurs when we have a small dataset and the model or algorithm tries to learn all patterns, including the noise, in the available dataset. <br/>\n",
    "This can be avoided by using a lot of data . Another method would be to ensure that not all patterns in the data are considered in the model since this might make the model more biased to the available dataset and any unseen pattern not available in the dataset might be wrongly predicted . <br/>\n",
    "A better technique would be to split the available data to training and testing set where the training set can be used to build a model and it's accuracy can be tested using the unseen testing data.\n"
   ]
  }
 ],
 "metadata": {
  "kernelspec": {
   "display_name": "Python 3",
   "language": "python",
   "name": "python3"
  },
  "language_info": {
   "codemirror_mode": {
    "name": "ipython",
    "version": 3
   },
   "file_extension": ".py",
   "mimetype": "text/x-python",
   "name": "python",
   "nbconvert_exporter": "python",
   "pygments_lexer": "ipython3",
   "version": "3.7.3"
  }
 },
 "nbformat": 4,
 "nbformat_minor": 2
}
